{
 "cells": [
  {
   "cell_type": "code",
   "execution_count": null,
   "metadata": {},
   "outputs": [],
   "source": [
    "%load_ext autoreload\n",
    "%autoreload 2"
   ]
  },
  {
   "cell_type": "code",
   "execution_count": null,
   "metadata": {},
   "outputs": [],
   "source": [
    "import torch\n",
    "from merge.modules.config import TransformerConfig\n",
    "from merge.modules.transformer import Transformer\n"
   ]
  },
  {
   "cell_type": "code",
   "execution_count": null,
   "metadata": {},
   "outputs": [],
   "source": [
    "from transformers import AutoTokenizer as HFAutoTokenizer\n",
    "\n",
    "\n",
    "class HFTokenizerWrapper:\n",
    "    \"\"\"Wrapper for HuggingFace tokenizers that implements our interface\"\"\"\n",
    "\n",
    "    def __init__(self, name: str):\n",
    "        super().__init__()\n",
    "        self.tokenizer = HFAutoTokenizer.from_pretrained(name)\n",
    "\n",
    "    def __getattr__(self, name):\n",
    "        return getattr(self.tokenizer, name)\n",
    "    \n",
    "    def __call__(self, *args, **kwargs):\n",
    "        # Delegate the call to the underlying tokenizer\n",
    "        return self.tokenizer(*args, **kwargs)"
   ]
  },
  {
   "cell_type": "code",
   "execution_count": null,
   "metadata": {},
   "outputs": [],
   "source": [
    "tokenizer = HFTokenizerWrapper(\"bert-base-uncased\")"
   ]
  },
  {
   "cell_type": "code",
   "execution_count": null,
   "metadata": {},
   "outputs": [],
   "source": [
    "text = \"This is a test\"\n",
    "tokenizer(text, 2)"
   ]
  },
  {
   "cell_type": "code",
   "execution_count": null,
   "metadata": {},
   "outputs": [],
   "source": [
    "hftokenizer = HFAutoTokenizer.from_pretrained(\"bert-base-uncased\")\n",
    "text = \"This is a test\"\n",
    "hftokenizer(text)"
   ]
  },
  {
   "cell_type": "code",
   "execution_count": null,
   "metadata": {},
   "outputs": [],
   "source": [
    "import torch\n",
    "from dataclasses import dataclass\n",
    "from merge.modules.attention import GQA\n",
    "\n",
    "@dataclass\n",
    "class TransformerConfig:\n",
    "    num_heads: int = 8\n",
    "    num_kv_heads: int = 2\n",
    "    d_model: int = 512\n",
    "    attention_bias: bool = False\n",
    "    attention_dropout: float = 0.1\n",
    "    pos_encoding_type: str = None\n",
    "\n",
    "# Create test inputs\n",
    "batch_size = 2\n",
    "seq_length = 16\n",
    "config = TransformerConfig()\n",
    "\n",
    "# Initialize GQA layer\n",
    "gqa = GQA(config)\n",
    "\n",
    "# Create dummy input tensor\n",
    "x = torch.randn(batch_size, seq_length, config.d_model)\n",
    "\n",
    "# Create causal mask\n",
    "mask = torch.tril(torch.ones((1, 1, seq_length, seq_length)))\n",
    "mask = torch.where(mask == 1.0, 0.0, -10000.0)\n",
    "\n",
    "# Forward pass\n",
    "output = gqa(x, mask, pos_info=None)\n",
    "\n",
    "# Verification\n",
    "print(f\"Input shape: {x.shape}\")\n",
    "print(f\"Output shape: {output.shape}\")\n",
    "assert output.shape == x.shape, \"Output shape doesn't match input shape\"\n",
    "\n",
    "# Test that k/v heads are properly grouped\n",
    "# Get intermediate tensors for verification\n",
    "q = gqa.W_Q(x)\n",
    "kv = gqa.W_KV(x)\n",
    "k, v = kv.chunk(2, dim=-1)\n",
    "\n",
    "print(f\"\\nProjection shapes:\")\n",
    "print(f\"Q projection: {q.shape}\")  # Should be [batch, seq, d_model]\n",
    "print(f\"KV projection: {kv.shape}\")  # Should be [batch, seq, 2 * (d_model//num_heads * num_kv_heads)]\n",
    "\n",
    "# Verify the grouping ratio\n",
    "assert gqa.num_heads % gqa.num_kv_heads == 0, \"Number of heads must be divisible by number of KV heads\"\n",
    "print(f\"\\nGrouping ratio (queries per k/v): {gqa.num_heads // gqa.num_kv_heads}\")\n",
    "\n",
    "print(\"\\nTest passed!\")"
   ]
  },
  {
   "cell_type": "code",
   "execution_count": 11,
   "metadata": {},
   "outputs": [
    {
     "data": {
      "text/plain": [
       "Counter({('lo', 'w'): 2,\n",
       "         ('w', 'e'): 2,\n",
       "         ('e', 'r'): 2,\n",
       "         ('e', 's'): 1,\n",
       "         ('s', 't'): 1,\n",
       "         ('n', 'e'): 1,\n",
       "         ('e', 'w'): 1,\n",
       "         ('w', 'i'): 1,\n",
       "         ('i', 'd'): 1,\n",
       "         ('d', 'e'): 1})"
      ]
     },
     "execution_count": 11,
     "metadata": {},
     "output_type": "execute_result"
    }
   ],
   "source": [
    "\n",
    "\n",
    "dataset = [\"lo w\", \"lo w e s t\", \"n e w e r\", \"w i d e r\"]\n",
    "#dataset = [\"low\", \"lowest\", \"newer\", \"wider\"]\n",
    "#count the frequency of letter pairs in the dataset\n",
    "\n",
    "from collections import Counter\n",
    "\n",
    "def count_pairs(dataset):\n",
    "    pairs = Counter()\n",
    "    for word in dataset:\n",
    "        tokens = word.split()\n",
    "        for i in range(len(tokens) - 1):\n",
    "            pairs[tuple(tokens[i:i+2])] += 1\n",
    "    return pairs\n",
    "\n",
    "count_pairs(dataset)\n"
   ]
  },
  {
   "cell_type": "code",
   "execution_count": null,
   "metadata": {},
   "outputs": [
    {
     "data": {
      "text/plain": [
       "dict_items([])"
      ]
     },
     "execution_count": 8,
     "metadata": {},
     "output_type": "execute_result"
    }
   ],
   "source": []
  }
 ],
 "metadata": {
  "kernelspec": {
   "display_name": ".venv",
   "language": "python",
   "name": "python3"
  },
  "language_info": {
   "codemirror_mode": {
    "name": "ipython",
    "version": 3
   },
   "file_extension": ".py",
   "mimetype": "text/x-python",
   "name": "python",
   "nbconvert_exporter": "python",
   "pygments_lexer": "ipython3",
   "version": "3.12.7"
  }
 },
 "nbformat": 4,
 "nbformat_minor": 2
}
