{
 "cells": [
  {
   "cell_type": "code",
   "execution_count": 4,
   "metadata": {},
   "outputs": [
    {
     "name": "stdout",
     "output_type": "stream",
     "text": [
      "The autoreload extension is already loaded. To reload it, use:\n",
      "  %reload_ext autoreload\n"
     ]
    }
   ],
   "source": [
    "%load_ext autoreload\n",
    "%autoreload 2"
   ]
  },
  {
   "cell_type": "code",
   "execution_count": 13,
   "metadata": {},
   "outputs": [],
   "source": [
    "import torch\n",
    "from merge.modules.config import TransformerConfig\n",
    "from merge.modules.transformer import Transformer\n"
   ]
  },
  {
   "cell_type": "code",
   "execution_count": null,
   "metadata": {},
   "outputs": [
    {
     "data": {
      "text/plain": [
       "torch.Size([1, 2, 8])"
      ]
     },
     "execution_count": 19,
     "metadata": {},
     "output_type": "execute_result"
    }
   ],
   "source": []
  },
  {
   "cell_type": "code",
   "execution_count": 21,
   "metadata": {},
   "outputs": [
    {
     "name": "stdout",
     "output_type": "stream",
     "text": [
      "Input shape: torch.Size([2, 16, 512])\n",
      "Output shape: torch.Size([2, 16, 512])\n",
      "\n",
      "Projection shapes:\n",
      "Q projection: torch.Size([2, 16, 512])\n",
      "KV projection: torch.Size([2, 16, 256])\n",
      "\n",
      "Grouping ratio (queries per k/v): 4\n",
      "\n",
      "Test passed!\n"
     ]
    }
   ],
   "source": [
    "import torch\n",
    "from dataclasses import dataclass\n",
    "from merge.modules.attention import GQA\n",
    "\n",
    "@dataclass\n",
    "class TransformerConfig:\n",
    "    num_heads: int = 8\n",
    "    num_kv_heads: int = 2\n",
    "    d_model: int = 512\n",
    "    attention_bias: bool = False\n",
    "    attention_dropout: float = 0.1\n",
    "    pos_encoding_type: str = None\n",
    "\n",
    "# Create test inputs\n",
    "batch_size = 2\n",
    "seq_length = 16\n",
    "config = TransformerConfig()\n",
    "\n",
    "# Initialize GQA layer\n",
    "gqa = GQA(config)\n",
    "\n",
    "# Create dummy input tensor\n",
    "x = torch.randn(batch_size, seq_length, config.d_model)\n",
    "\n",
    "# Create causal mask\n",
    "mask = torch.tril(torch.ones((1, 1, seq_length, seq_length)))\n",
    "mask = torch.where(mask == 1.0, 0.0, -10000.0)\n",
    "\n",
    "# Forward pass\n",
    "output = gqa(x, mask, pos_info=None)\n",
    "\n",
    "# Verification\n",
    "print(f\"Input shape: {x.shape}\")\n",
    "print(f\"Output shape: {output.shape}\")\n",
    "assert output.shape == x.shape, \"Output shape doesn't match input shape\"\n",
    "\n",
    "# Test that k/v heads are properly grouped\n",
    "# Get intermediate tensors for verification\n",
    "q = gqa.W_Q(x)\n",
    "kv = gqa.W_KV(x)\n",
    "k, v = kv.chunk(2, dim=-1)\n",
    "\n",
    "print(f\"\\nProjection shapes:\")\n",
    "print(f\"Q projection: {q.shape}\")  # Should be [batch, seq, d_model]\n",
    "print(f\"KV projection: {kv.shape}\")  # Should be [batch, seq, 2 * (d_model//num_heads * num_kv_heads)]\n",
    "\n",
    "# Verify the grouping ratio\n",
    "assert gqa.num_heads % gqa.num_kv_heads == 0, \"Number of heads must be divisible by number of KV heads\"\n",
    "print(f\"\\nGrouping ratio (queries per k/v): {gqa.num_heads // gqa.num_kv_heads}\")\n",
    "\n",
    "print(\"\\nTest passed!\")"
   ]
  }
 ],
 "metadata": {
  "kernelspec": {
   "display_name": ".venv",
   "language": "python",
   "name": "python3"
  },
  "language_info": {
   "codemirror_mode": {
    "name": "ipython",
    "version": 3
   },
   "file_extension": ".py",
   "mimetype": "text/x-python",
   "name": "python",
   "nbconvert_exporter": "python",
   "pygments_lexer": "ipython3",
   "version": "3.12.7"
  }
 },
 "nbformat": 4,
 "nbformat_minor": 2
}
