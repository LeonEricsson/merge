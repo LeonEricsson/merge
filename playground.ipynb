{
 "cells": [
  {
   "cell_type": "code",
   "execution_count": 1,
   "metadata": {},
   "outputs": [],
   "source": [
    "%load_ext autoreload\n",
    "%autoreload 2"
   ]
  },
  {
   "cell_type": "code",
   "execution_count": null,
   "metadata": {},
   "outputs": [],
   "source": [
    "import torch\n",
    "from merge.modules.config import TransformerConfig\n",
    "from merge.modules.transformer import Transformer\n"
   ]
  },
  {
   "cell_type": "code",
   "execution_count": null,
   "metadata": {},
   "outputs": [],
   "source": [
    "from merge.preprocessing.tokenizer import BPETokenizer\n",
    "\n",
    "\n",
    "BPETokenizer()"
   ]
  },
  {
   "cell_type": "code",
   "execution_count": null,
   "metadata": {},
   "outputs": [],
   "source": [
    "from transformers import AutoTokenizer as HFAutoTokenizer\n",
    "\n",
    "\n",
    "class HFTokenizerWrapper:\n",
    "    \"\"\"Wrapper for HuggingFace tokenizers that implements our interface\"\"\"\n",
    "\n",
    "    def __init__(self, name: str):\n",
    "        super().__init__()\n",
    "        self.tokenizer = HFAutoTokenizer.from_pretrained(name)\n",
    "\n",
    "    def __getattr__(self, name):\n",
    "        return getattr(self.tokenizer, name)\n",
    "    \n",
    "    def __call__(self, *args, **kwargs):\n",
    "        # Delegate the call to the underlying tokenizer\n",
    "        return self.tokenizer(*args, **kwargs)"
   ]
  },
  {
   "cell_type": "code",
   "execution_count": null,
   "metadata": {},
   "outputs": [],
   "source": [
    "tokenizer = HFTokenizerWrapper(\"bert-base-uncased\")"
   ]
  },
  {
   "cell_type": "code",
   "execution_count": null,
   "metadata": {},
   "outputs": [],
   "source": [
    "text = \"This is a test\"\n",
    "tokenizer(text, 2)"
   ]
  },
  {
   "cell_type": "code",
   "execution_count": null,
   "metadata": {},
   "outputs": [],
   "source": [
    "hftokenizer = HFAutoTokenizer.from_pretrained(\"bert-base-uncased\")\n",
    "text = \"This is a test\"\n",
    "hftokenizer(text)"
   ]
  },
  {
   "cell_type": "code",
   "execution_count": null,
   "metadata": {},
   "outputs": [
    {
     "data": {
      "text/plain": [
       "Counter({('lo', 'w'): 2,\n",
       "         ('w', 'e'): 2,\n",
       "         ('e', 'r'): 2,\n",
       "         ('e', 's'): 1,\n",
       "         ('s', 't'): 1,\n",
       "         ('n', 'e'): 1,\n",
       "         ('e', 'w'): 1,\n",
       "         ('w', 'i'): 1,\n",
       "         ('i', 'd'): 1,\n",
       "         ('d', 'e'): 1})"
      ]
     },
     "execution_count": 11,
     "metadata": {},
     "output_type": "execute_result"
    }
   ],
   "source": [
    "\n",
    "\n",
    "dataset = [\"lo w\", \"lo w e s t\", \"n e w e r\", \"w i d e r\"]\n",
    "#dataset = [\"low\", \"lowest\", \"newer\", \"wider\"]\n",
    "#count the frequency of letter pairs in the dataset\n",
    "\n",
    "from collections import Counter\n",
    "\n",
    "def count_pairs(dataset):\n",
    "    pairs = Counter()\n",
    "    for word in dataset:\n",
    "        tokens = word.split()\n",
    "        for i in range(len(tokens) - 1):\n",
    "            pairs[tuple(tokens[i:i+2])] += 1\n",
    "    return pairs\n",
    "\n",
    "count_pairs(dataset)\n"
   ]
  },
  {
   "cell_type": "code",
   "execution_count": null,
   "metadata": {},
   "outputs": [
    {
     "data": {
      "text/plain": [
       "dict_items([])"
      ]
     },
     "execution_count": 8,
     "metadata": {},
     "output_type": "execute_result"
    }
   ],
   "source": []
  }
 ],
 "metadata": {
  "kernelspec": {
   "display_name": ".venv",
   "language": "python",
   "name": "python3"
  },
  "language_info": {
   "codemirror_mode": {
    "name": "ipython",
    "version": 3
   },
   "file_extension": ".py",
   "mimetype": "text/x-python",
   "name": "python",
   "nbconvert_exporter": "python",
   "pygments_lexer": "ipython3",
   "version": "3.12.8"
  }
 },
 "nbformat": 4,
 "nbformat_minor": 2
}
